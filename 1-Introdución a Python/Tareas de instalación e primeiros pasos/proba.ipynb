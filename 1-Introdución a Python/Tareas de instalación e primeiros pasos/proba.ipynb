{
 "cells": [
  {
   "cell_type": "markdown",
   "id": "b0a27eeb",
   "metadata": {},
   "source": [
    "Esto é unha proba de un notebook. Proba a executar o código de abaixo."
   ]
  },
  {
   "cell_type": "code",
   "execution_count": 1,
   "id": "a07ae3ac",
   "metadata": {},
   "outputs": [
    {
     "name": "stdout",
     "output_type": "stream",
     "text": [
      "HELLO NOTEBOOK\n"
     ]
    }
   ],
   "source": [
    "print(\"HELLO NOTEBOOK\")"
   ]
  }
 ],
 "metadata": {
  "kernelspec": {
   "display_name": "Python 3",
   "language": "python",
   "name": "python3"
  },
  "language_info": {
   "codemirror_mode": {
    "name": "ipython",
    "version": 3
   },
   "file_extension": ".py",
   "mimetype": "text/x-python",
   "name": "python",
   "nbconvert_exporter": "python",
   "pygments_lexer": "ipython3",
   "version": "3.14.0"
  }
 },
 "nbformat": 4,
 "nbformat_minor": 5
}
